{
 "cells": [
  {
   "cell_type": "markdown",
   "id": "2a4f1dbb",
   "metadata": {},
   "source": [
    "**Sample 1:**"
   ]
  },
  {
   "cell_type": "code",
   "execution_count": 1,
   "id": "09a1dd73",
   "metadata": {},
   "outputs": [
    {
     "name": "stdout",
     "output_type": "stream",
     "text": [
      "\n",
      "matches =\n",
      "\n",
      "  4x6 char array\n",
      "\n",
      "    'inline'\n",
      "    'paypal'\n",
      "    'tested'\n",
      "    'velvet'\n",
      "\n",
      "\n"
     ]
    }
   ],
   "source": [
    "matches = decrypt('XZYXZW')"
   ]
  },
  {
   "cell_type": "markdown",
   "id": "28c1f831",
   "metadata": {},
   "source": [
    "**Sample 2:**"
   ]
  },
  {
   "cell_type": "code",
   "execution_count": 2,
   "id": "870464f4",
   "metadata": {},
   "outputs": [
    {
     "name": "stdout",
     "output_type": "stream",
     "text": [
      "\n",
      "matches =\n",
      "\n",
      "  3x5 char array\n",
      "\n",
      "    'areas'\n",
      "    'crack'\n",
      "    'truth'\n",
      "\n",
      "\n"
     ]
    }
   ],
   "source": [
    "matches = decrypt('XrYXZ')"
   ]
  },
  {
   "cell_type": "markdown",
   "id": "9347b5a9",
   "metadata": {},
   "source": [
    "**Sample 3:**"
   ]
  },
  {
   "cell_type": "code",
   "execution_count": 3,
   "id": "3fbaf63c",
   "metadata": {},
   "outputs": [
    {
     "name": "stdout",
     "output_type": "stream",
     "text": [
      "\n",
      "matches =\n",
      "\n",
      "  2x6 char array\n",
      "\n",
      "    'common'\n",
      "    'cotton'\n",
      "\n",
      "\n"
     ]
    }
   ],
   "source": [
    "matches = decrypt('cABBAC')"
   ]
  },
  {
   "cell_type": "markdown",
   "id": "153d53b9",
   "metadata": {},
   "source": [
    "**Sample 4:**"
   ]
  },
  {
   "cell_type": "code",
   "execution_count": 4,
   "id": "9b97cea4",
   "metadata": {},
   "outputs": [
    {
     "name": "stdout",
     "output_type": "stream",
     "text": [
      "\n",
      "matches =\n",
      "\n",
      "  4x7 char array\n",
      "\n",
      "    'adapter'\n",
      "    'adaptor'\n",
      "    'amateur'\n",
      "    'popular'\n",
      "\n",
      "\n"
     ]
    }
   ],
   "source": [
    "matches = decrypt('ABACDEr')"
   ]
  },
  {
   "cell_type": "markdown",
   "id": "007e632c",
   "metadata": {},
   "source": [
    "**Sample 5:**"
   ]
  },
  {
   "cell_type": "code",
   "execution_count": 5,
   "id": "e1d2a0db",
   "metadata": {},
   "outputs": [
    {
     "name": "stdout",
     "output_type": "stream",
     "text": [
      "\n",
      "matches =\n",
      "\n",
      "  7x7 char array\n",
      "\n",
      "    'bedding'\n",
      "    'betting'\n",
      "    'letting'\n",
      "    'selling'\n",
      "    'setting'\n",
      "    'telling'\n",
      "    'wedding'\n",
      "\n",
      "\n"
     ]
    }
   ],
   "source": [
    "matches = decrypt('XeYYing')"
   ]
  },
  {
   "cell_type": "markdown",
   "id": "b7cbce2f",
   "metadata": {},
   "source": [
    "**Sample 6:**"
   ]
  },
  {
   "cell_type": "code",
   "execution_count": 6,
   "id": "6988381d",
   "metadata": {},
   "outputs": [
    {
     "name": "stdout",
     "output_type": "stream",
     "text": [
      "\n",
      "matches =\n",
      "\n",
      "  2x6 char array\n",
      "\n",
      "    'across'\n",
      "    'unless'\n",
      "\n",
      "\n"
     ]
    }
   ],
   "source": [
    "matches = decrypt('KRCYss')"
   ]
  }
 ],
 "metadata": {
  "kernelspec": {
   "display_name": "Matlab",
   "language": "matlab",
   "name": "matlab"
  },
  "language_info": {
   "codemirror_mode": "octave",
   "file_extension": ".m",
   "help_links": [
    {
     "text": "MetaKernel Magics",
     "url": "https://metakernel.readthedocs.io/en/latest/source/README.html"
    }
   ],
   "mimetype": "text/x-octave",
   "name": "matlab",
   "version": "0.17.1"
  }
 },
 "nbformat": 4,
 "nbformat_minor": 5
}
